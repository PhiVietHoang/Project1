{
 "cells": [
  {
   "cell_type": "code",
   "execution_count": 3,
   "id": "204d4562-f211-46ed-a8e6-4ba6af9b809b",
   "metadata": {},
   "outputs": [],
   "source": [
    "import classifier as clf\n",
    "import numpy as np\n",
    "import pandas as pd\n",
    "import matplotlib.pyplot as plt\n",
    "from sklearn.metrics import roc_curve, auc, RocCurveDisplay\n",
    "from itertools import cycle\n",
    "from sklearn.linear_model import LogisticRegression\n",
    "from tabulate import tabulate"
   ]
  },
  {
   "cell_type": "code",
   "execution_count": 4,
   "id": "a45e1a46-5aea-4643-8e2f-35b890802851",
   "metadata": {},
   "outputs": [
    {
     "data": {
      "text/html": [
       "<div>\n",
       "<style scoped>\n",
       "    .dataframe tbody tr th:only-of-type {\n",
       "        vertical-align: middle;\n",
       "    }\n",
       "\n",
       "    .dataframe tbody tr th {\n",
       "        vertical-align: top;\n",
       "    }\n",
       "\n",
       "    .dataframe thead th {\n",
       "        text-align: right;\n",
       "    }\n",
       "</style>\n",
       "<table border=\"1\" class=\"dataframe\">\n",
       "  <thead>\n",
       "    <tr style=\"text-align: right;\">\n",
       "      <th></th>\n",
       "      <th>STG</th>\n",
       "      <th>SCG</th>\n",
       "      <th>STR</th>\n",
       "      <th>LPR</th>\n",
       "      <th>PEG</th>\n",
       "      <th>UNS</th>\n",
       "    </tr>\n",
       "  </thead>\n",
       "  <tbody>\n",
       "    <tr>\n",
       "      <th>0</th>\n",
       "      <td>0.00</td>\n",
       "      <td>0.00</td>\n",
       "      <td>0.00</td>\n",
       "      <td>0.00</td>\n",
       "      <td>0.00</td>\n",
       "      <td>very_low</td>\n",
       "    </tr>\n",
       "    <tr>\n",
       "      <th>1</th>\n",
       "      <td>0.08</td>\n",
       "      <td>0.08</td>\n",
       "      <td>0.10</td>\n",
       "      <td>0.24</td>\n",
       "      <td>0.90</td>\n",
       "      <td>High</td>\n",
       "    </tr>\n",
       "    <tr>\n",
       "      <th>2</th>\n",
       "      <td>0.06</td>\n",
       "      <td>0.06</td>\n",
       "      <td>0.05</td>\n",
       "      <td>0.25</td>\n",
       "      <td>0.33</td>\n",
       "      <td>Low</td>\n",
       "    </tr>\n",
       "    <tr>\n",
       "      <th>3</th>\n",
       "      <td>0.10</td>\n",
       "      <td>0.10</td>\n",
       "      <td>0.15</td>\n",
       "      <td>0.65</td>\n",
       "      <td>0.30</td>\n",
       "      <td>Middle</td>\n",
       "    </tr>\n",
       "    <tr>\n",
       "      <th>4</th>\n",
       "      <td>0.08</td>\n",
       "      <td>0.08</td>\n",
       "      <td>0.08</td>\n",
       "      <td>0.98</td>\n",
       "      <td>0.24</td>\n",
       "      <td>Low</td>\n",
       "    </tr>\n",
       "    <tr>\n",
       "      <th>...</th>\n",
       "      <td>...</td>\n",
       "      <td>...</td>\n",
       "      <td>...</td>\n",
       "      <td>...</td>\n",
       "      <td>...</td>\n",
       "      <td>...</td>\n",
       "    </tr>\n",
       "    <tr>\n",
       "      <th>253</th>\n",
       "      <td>0.61</td>\n",
       "      <td>0.78</td>\n",
       "      <td>0.69</td>\n",
       "      <td>0.92</td>\n",
       "      <td>0.58</td>\n",
       "      <td>High</td>\n",
       "    </tr>\n",
       "    <tr>\n",
       "      <th>254</th>\n",
       "      <td>0.78</td>\n",
       "      <td>0.61</td>\n",
       "      <td>0.71</td>\n",
       "      <td>0.19</td>\n",
       "      <td>0.60</td>\n",
       "      <td>Middle</td>\n",
       "    </tr>\n",
       "    <tr>\n",
       "      <th>255</th>\n",
       "      <td>0.54</td>\n",
       "      <td>0.82</td>\n",
       "      <td>0.71</td>\n",
       "      <td>0.29</td>\n",
       "      <td>0.77</td>\n",
       "      <td>High</td>\n",
       "    </tr>\n",
       "    <tr>\n",
       "      <th>256</th>\n",
       "      <td>0.50</td>\n",
       "      <td>0.75</td>\n",
       "      <td>0.81</td>\n",
       "      <td>0.61</td>\n",
       "      <td>0.26</td>\n",
       "      <td>Middle</td>\n",
       "    </tr>\n",
       "    <tr>\n",
       "      <th>257</th>\n",
       "      <td>0.66</td>\n",
       "      <td>0.90</td>\n",
       "      <td>0.76</td>\n",
       "      <td>0.87</td>\n",
       "      <td>0.74</td>\n",
       "      <td>High</td>\n",
       "    </tr>\n",
       "  </tbody>\n",
       "</table>\n",
       "<p>258 rows × 6 columns</p>\n",
       "</div>"
      ],
      "text/plain": [
       "      STG   SCG   STR   LPR   PEG       UNS\n",
       "0    0.00  0.00  0.00  0.00  0.00  very_low\n",
       "1    0.08  0.08  0.10  0.24  0.90      High\n",
       "2    0.06  0.06  0.05  0.25  0.33       Low\n",
       "3    0.10  0.10  0.15  0.65  0.30    Middle\n",
       "4    0.08  0.08  0.08  0.98  0.24       Low\n",
       "..    ...   ...   ...   ...   ...       ...\n",
       "253  0.61  0.78  0.69  0.92  0.58      High\n",
       "254  0.78  0.61  0.71  0.19  0.60    Middle\n",
       "255  0.54  0.82  0.71  0.29  0.77      High\n",
       "256  0.50  0.75  0.81  0.61  0.26    Middle\n",
       "257  0.66  0.90  0.76  0.87  0.74      High\n",
       "\n",
       "[258 rows x 6 columns]"
      ]
     },
     "execution_count": 4,
     "metadata": {},
     "output_type": "execute_result"
    }
   ],
   "source": [
    "train = pd.read_csv('train_data.csv')\n",
    "train"
   ]
  },
  {
   "cell_type": "code",
   "execution_count": 5,
   "id": "cb8d2202-d318-4a78-bf60-90fa7c78bfd3",
   "metadata": {},
   "outputs": [
    {
     "data": {
      "text/plain": [
       "array([[0.0, 0.0, 0.0, 0.0, 0.0],\n",
       "       [0.08, 0.08, 0.1, 0.24, 0.9],\n",
       "       [0.06, 0.06, 0.05, 0.25, 0.33],\n",
       "       ...,\n",
       "       [0.54, 0.82, 0.71, 0.29, 0.77],\n",
       "       [0.5, 0.75, 0.81, 0.61, 0.26],\n",
       "       [0.66, 0.9, 0.76, 0.87, 0.74]], dtype=object)"
      ]
     },
     "execution_count": 5,
     "metadata": {},
     "output_type": "execute_result"
    }
   ],
   "source": [
    "train = train.to_numpy()\n",
    "R_train = train[:, 0:5]\n",
    "L_train = train[:, 5]\n",
    "R_train"
   ]
  },
  {
   "cell_type": "code",
   "execution_count": 6,
   "id": "195fd82f-eb79-461d-822a-9dd816ac689d",
   "metadata": {},
   "outputs": [],
   "source": [
    "w0 = np.array([0.2, 0.2, 0.2, 0.2, 0.2])\n",
    "w_history = clf.weight_train(w0, R_train, tol = 1e-3)\n",
    "#w_history"
   ]
  },
  {
   "cell_type": "code",
   "execution_count": 7,
   "id": "178bc9d2-4149-4bdf-be1b-dcb662161560",
   "metadata": {},
   "outputs": [
    {
     "data": {
      "text/plain": [
       "array([[0.30579167, 0.198125  , 0.36625   , 0.35875   , 0.09083333],\n",
       "       [0.32114458, 0.337     , 0.43072289, 0.4973494 , 0.23762651],\n",
       "       [0.39997727, 0.36792045, 0.50681818, 0.34284091, 0.54238636],\n",
       "       [0.42165079, 0.42319048, 0.50166667, 0.50126984, 0.77253968]])"
      ]
     },
     "execution_count": 7,
     "metadata": {},
     "output_type": "execute_result"
    }
   ],
   "source": [
    "classes = np.array(['very_low', 'Low', 'Middle', 'High'])\n",
    "R_Lp = clf.center_find(R_train, L_train, classes)\n",
    "R_Lp"
   ]
  },
  {
   "cell_type": "code",
   "execution_count": 8,
   "id": "f5f4dd16-e777-43e1-ad86-1ee5fb265443",
   "metadata": {},
   "outputs": [
    {
     "data": {
      "image/png": "[encoded data removed]",
      "text/plain": [
       "<Figure size 640x480 with 1 Axes>"
      ]
     },
     "metadata": {},
     "output_type": "display_data"
    },
    {
     "name": "stdout",
     "output_type": "stream",
     "text": [
      "[0.00296427 0.01724675 0.17334955 0.04136175 0.76507768]\n"
     ]
    }
   ],
   "source": [
    "x = np.arange(w_history.shape[0])\n",
    "y = np.zeros_like(x, dtype = 'float')\n",
    "for i in range(x.shape[0]):\n",
    "    y[i] = clf.accuracy(clf.labeling(R_train, R_Lp, classes, w_history[i],'eu'), L_train)\n",
    "plt.xlabel(\"Iteration\")\n",
    "plt.ylabel(\"Accuracy\")\n",
    "plt.plot(x, y)\n",
    "plt.show()\n",
    "w = clf.early_stopping(w_history, L_train, R_train, R_Lp, classes,'eu')\n",
    "print(w)"
   ]
  },
  {
   "cell_type": "code",
   "execution_count": 9,
   "id": "284af0a6-d6ec-48d3-b4c5-c8a162e6d6cd",
   "metadata": {},
   "outputs": [
    {
     "data": {
      "text/html": [
       "<div>\n",
       "<style scoped>\n",
       "    .dataframe tbody tr th:only-of-type {\n",
       "        vertical-align: middle;\n",
       "    }\n",
       "\n",
       "    .dataframe tbody tr th {\n",
       "        vertical-align: top;\n",
       "    }\n",
       "\n",
       "    .dataframe thead th {\n",
       "        text-align: right;\n",
       "    }\n",
       "</style>\n",
       "<table border=\"1\" class=\"dataframe\">\n",
       "  <thead>\n",
       "    <tr style=\"text-align: right;\">\n",
       "      <th></th>\n",
       "      <th>STG</th>\n",
       "      <th>SCG</th>\n",
       "      <th>STR</th>\n",
       "      <th>LPR</th>\n",
       "      <th>PEG</th>\n",
       "      <th>UNS</th>\n",
       "    </tr>\n",
       "  </thead>\n",
       "  <tbody>\n",
       "    <tr>\n",
       "      <th>0</th>\n",
       "      <td>0.00</td>\n",
       "      <td>0.10</td>\n",
       "      <td>0.50</td>\n",
       "      <td>0.26</td>\n",
       "      <td>0.05</td>\n",
       "      <td>Very Low</td>\n",
       "    </tr>\n",
       "    <tr>\n",
       "      <th>1</th>\n",
       "      <td>0.05</td>\n",
       "      <td>0.05</td>\n",
       "      <td>0.55</td>\n",
       "      <td>0.60</td>\n",
       "      <td>0.14</td>\n",
       "      <td>Low</td>\n",
       "    </tr>\n",
       "    <tr>\n",
       "      <th>2</th>\n",
       "      <td>0.08</td>\n",
       "      <td>0.18</td>\n",
       "      <td>0.63</td>\n",
       "      <td>0.60</td>\n",
       "      <td>0.85</td>\n",
       "      <td>High</td>\n",
       "    </tr>\n",
       "    <tr>\n",
       "      <th>3</th>\n",
       "      <td>0.20</td>\n",
       "      <td>0.20</td>\n",
       "      <td>0.68</td>\n",
       "      <td>0.67</td>\n",
       "      <td>0.85</td>\n",
       "      <td>High</td>\n",
       "    </tr>\n",
       "    <tr>\n",
       "      <th>4</th>\n",
       "      <td>0.22</td>\n",
       "      <td>0.22</td>\n",
       "      <td>0.90</td>\n",
       "      <td>0.30</td>\n",
       "      <td>0.90</td>\n",
       "      <td>High</td>\n",
       "    </tr>\n",
       "    <tr>\n",
       "      <th>...</th>\n",
       "      <td>...</td>\n",
       "      <td>...</td>\n",
       "      <td>...</td>\n",
       "      <td>...</td>\n",
       "      <td>...</td>\n",
       "      <td>...</td>\n",
       "    </tr>\n",
       "    <tr>\n",
       "      <th>140</th>\n",
       "      <td>0.90</td>\n",
       "      <td>0.78</td>\n",
       "      <td>0.62</td>\n",
       "      <td>0.32</td>\n",
       "      <td>0.89</td>\n",
       "      <td>High</td>\n",
       "    </tr>\n",
       "    <tr>\n",
       "      <th>141</th>\n",
       "      <td>0.85</td>\n",
       "      <td>0.82</td>\n",
       "      <td>0.66</td>\n",
       "      <td>0.83</td>\n",
       "      <td>0.83</td>\n",
       "      <td>High</td>\n",
       "    </tr>\n",
       "    <tr>\n",
       "      <th>142</th>\n",
       "      <td>0.56</td>\n",
       "      <td>0.60</td>\n",
       "      <td>0.77</td>\n",
       "      <td>0.13</td>\n",
       "      <td>0.32</td>\n",
       "      <td>Low</td>\n",
       "    </tr>\n",
       "    <tr>\n",
       "      <th>143</th>\n",
       "      <td>0.66</td>\n",
       "      <td>0.68</td>\n",
       "      <td>0.81</td>\n",
       "      <td>0.57</td>\n",
       "      <td>0.57</td>\n",
       "      <td>Middle</td>\n",
       "    </tr>\n",
       "    <tr>\n",
       "      <th>144</th>\n",
       "      <td>0.68</td>\n",
       "      <td>0.64</td>\n",
       "      <td>0.79</td>\n",
       "      <td>0.97</td>\n",
       "      <td>0.24</td>\n",
       "      <td>Middle</td>\n",
       "    </tr>\n",
       "  </tbody>\n",
       "</table>\n",
       "<p>145 rows × 6 columns</p>\n",
       "</div>"
      ],
      "text/plain": [
       "      STG   SCG   STR   LPR   PEG       UNS\n",
       "0    0.00  0.10  0.50  0.26  0.05  Very Low\n",
       "1    0.05  0.05  0.55  0.60  0.14       Low\n",
       "2    0.08  0.18  0.63  0.60  0.85      High\n",
       "3    0.20  0.20  0.68  0.67  0.85      High\n",
       "4    0.22  0.22  0.90  0.30  0.90      High\n",
       "..    ...   ...   ...   ...   ...       ...\n",
       "140  0.90  0.78  0.62  0.32  0.89      High\n",
       "141  0.85  0.82  0.66  0.83  0.83      High\n",
       "142  0.56  0.60  0.77  0.13  0.32       Low\n",
       "143  0.66  0.68  0.81  0.57  0.57    Middle\n",
       "144  0.68  0.64  0.79  0.97  0.24    Middle\n",
       "\n",
       "[145 rows x 6 columns]"
      ]
     },
     "execution_count": 9,
     "metadata": {},
     "output_type": "execute_result"
    }
   ],
   "source": [
    "test = pd.read_csv('test_data.csv')\n",
    "test"
   ]
  },
  {
   "cell_type": "code",
   "execution_count": 10,
   "id": "30c852bc-0e75-4860-af91-e75ce02e8d0a",
   "metadata": {},
   "outputs": [],
   "source": [
    "test = test.to_numpy()\n",
    "R_test = test[:, 0:5].astype('float')\n",
    "L_test = test[:, 5].astype('<U8')\n",
    "#L_test"
   ]
  },
  {
   "cell_type": "code",
   "execution_count": 11,
   "id": "531d4273-a73c-476e-bfa7-d856db92c17e",
   "metadata": {},
   "outputs": [],
   "source": [
    "classes = np.array(['Very Low', 'Low', 'Middle', 'High'])\n",
    "L_pred = clf.labeling(R_test, R_Lp, classes, w, 'eu')\n",
    "#L_pred"
   ]
  },
  {
   "cell_type": "code",
   "execution_count": 12,
   "id": "a24f934a-108e-45e5-9f0d-c49354913de9",
   "metadata": {},
   "outputs": [
    {
     "data": {
      "text/plain": [
       "0.8827586206896552"
      ]
     },
     "execution_count": 12,
     "metadata": {},
     "output_type": "execute_result"
    }
   ],
   "source": [
    "clf.accuracy(L_pred, L_test)"
   ]
  },
  {
   "cell_type": "code",
   "execution_count": 13,
   "id": "c7b1975b-70f4-4c33-9174-7538b98ca071",
   "metadata": {},
   "outputs": [
    {
     "data": {
      "image/png": "[encoded data removed]",
      "text/plain": [
       "<Figure size 640x480 with 1 Axes>"
      ]
     },
     "metadata": {},
     "output_type": "display_data"
    }
   ],
   "source": [
    "x1 = np.arange(w_history.shape[0])\n",
    "y1 = np.zeros_like(x, dtype = 'float')\n",
    "for i in range(x.shape[0]):\n",
    "    y[i] = clf.accuracy(clf.labeling(R_test, R_Lp, classes, w_history[i],'eu'), L_test)\n",
    "plt.xlabel(\"Iteration\")\n",
    "plt.ylabel(\"Accuracy\")\n",
    "plt.plot(x, y)\n",
    "plt.show()"
   ]
  },
  {
   "cell_type": "code",
   "execution_count": 14,
   "id": "300179b8-e0a3-42e2-a08e-2691baa7af1f",
   "metadata": {},
   "outputs": [
    {
     "name": "stdout",
     "output_type": "stream",
     "text": [
      "Accuracy of Very Low is 0.9724137931034482\n",
      "Sensitivity of Very Low is 1.0\n",
      "Specificity of Very Low is 0.9636363636363636\n",
      "Precision of Very Low is 0.8974358974358975\n",
      "F1 score of Very Low is 0.9459459459459459\n",
      "\n",
      "\n",
      "Accuracy of Low is 0.9103448275862069\n",
      "Sensitivity of Low is 0.7894736842105263\n",
      "Specificity of Low is 0.9886363636363636\n",
      "Precision of Low is 0.9782608695652174\n",
      "F1 score of Low is 0.8737864077669902\n",
      "\n",
      "\n",
      "Accuracy of Middle is 0.903448275862069\n",
      "Sensitivity of Middle is 0.8571428571428571\n",
      "Specificity of Middle is 0.9145299145299145\n",
      "Precision of Middle is 0.7058823529411765\n",
      "F1 score of Middle is 0.7741935483870968\n",
      "\n",
      "\n",
      "Accuracy of High is 0.9793103448275862\n",
      "Sensitivity of High is 0.96\n",
      "Specificity of High is 0.9833333333333333\n",
      "Precision of High is 0.9230769230769231\n",
      "F1 score of High is 0.9411764705882353\n",
      "\n",
      "\n"
     ]
    }
   ],
   "source": [
    "ACC = clf.acc(L_pred, L_test)\n",
    "SEN = clf.sen(L_pred, L_test)\n",
    "SPEC = clf.spec(L_pred, L_test)\n",
    "PRE = clf.pre(L_pred, L_test)\n",
    "F1 = clf.f1_score(L_pred, L_test)\n",
    "for i in range (classes.shape[0]):\n",
    "    print (\"Accuracy of\",classes[i] + \" is\",ACC[i])\n",
    "    print (\"Sensitivity of\",classes[i] + \" is\",SEN[i])\n",
    "    print (\"Specificity of\",classes[i] + \" is\",SPEC[i])\n",
    "    print (\"Precision of\",classes[i] + \" is\",PRE[i])\n",
    "    print (\"F1 score of\",classes[i] + \" is\",F1[i])\n",
    "    print(\"\\n\")"
   ]
  },
  {
   "cell_type": "code",
   "execution_count": 28,
   "id": "07a9dafe",
   "metadata": {},
   "outputs": [
    {
     "data": {
      "text/plain": [
       "array([[[ 35,   4],\n",
       "        [106,   0]],\n",
       "\n",
       "       [[ 45,   1],\n",
       "        [ 87,  12]],\n",
       "\n",
       "       [[ 24,  10],\n",
       "        [107,   4]],\n",
       "\n",
       "       [[ 24,   2],\n",
       "        [118,   1]]])"
      ]
     },
     "execution_count": 28,
     "metadata": {},
     "output_type": "execute_result"
    }
   ],
   "source": [
    "clf.confusion_matrix(L_pred, L_test)"
   ]
  },
  {
   "cell_type": "code",
   "execution_count": 29,
   "id": "43c75572",
   "metadata": {},
   "outputs": [
    {
     "name": "stdout",
     "output_type": "stream",
     "text": [
      "Classes      ACC    SEN    SPEC    PRE    F1\n",
      "---------  -----  -----  ------  -----  ----\n",
      "Very Low    0.97   1       0.96   0.9   0.95\n",
      "Low         0.91   0.79    0.99   0.98  0.87\n",
      "Middle      0.9    0.86    0.91   0.71  0.77\n",
      "High        0.98   0.96    0.98   0.92  0.94\n"
     ]
    }
   ],
   "source": [
    "result = []\n",
    "for i in range (classes.shape[0]):\n",
    "    result.append([classes[i],round(ACC[i],2),round(SEN[i],2),round(SPEC[i],2),round(PRE[i],2),round(F1[i],2)])\n",
    "result\n",
    "col_names = [\"Classes\", \"ACC\", \"SEN\", \"SPEC\", \"PRE\", \"F1\"]\n",
    "print(tabulate(result, headers=col_names))"
   ]
  }
 ],
 "metadata": {
  "kernelspec": {
   "display_name": "Python 3",
   "language": "python",
   "name": "python3"
  },
  "language_info": {
   "codemirror_mode": {
    "name": "ipython",
    "version": 3
   },
   "file_extension": ".py",
   "mimetype": "text/x-python",
   "name": "python",
   "nbconvert_exporter": "python",
   "pygments_lexer": "ipython3",
   "version": "3.10.4"
  },
  "vscode": {
   "interpreter": {
    "hash": "31671a60cee805c34c73116577b485118ff3a75c458d3004d49632c19702ac60"
   }
  }
 },
 "nbformat": 4,
 "nbformat_minor": 5
}
